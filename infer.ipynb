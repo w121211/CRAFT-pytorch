{
 "cells": [
  {
   "cell_type": "code",
   "execution_count": 4,
   "metadata": {},
   "outputs": [
    {
     "name": "stdout",
     "output_type": "stream",
     "text": [
      "/workspace/CRAFT-pytorch\n",
      "Loading weights from checkpoint (craft_mlt_25k.pth)\n",
      "elapsed time : 4.171711206436157spytorch/data/banners_copy/0a88a530f91c9d32fcd572f73400d677.jpg\n"
     ]
    }
   ],
   "source": [
    "# CRAFT\n",
    "%cd /workspace/CRAFT-pytorch\n",
    "!rm -R /workspace/CRAFT-pytorch/result\n",
    "!python my_craft_infer.py --trained_model=craft_mlt_25k.pth --test_folder=/workspace/CRAFT-pytorch/data/banners_copy --cuda=False\n",
    "# !python my_craft_infer.py --trained_model=craft_mlt_25k.pth --test_folder=mydataset/test/images --cuda=False"
   ]
  },
  {
   "cell_type": "code",
   "execution_count": 3,
   "metadata": {},
   "outputs": [
    {
     "data": {
      "text/plain": [
       "(244, 650, 3)"
      ]
     },
     "execution_count": 3,
     "metadata": {},
     "output_type": "execute_result"
    }
   ],
   "source": [
    "import imgproc\n",
    "\n",
    "image = imgproc.loadImage(\"/workspace/CRAFT-pytorch/data/banners_copy/0a88a530f91c9d32fcd572f73400d677.jpg\")\n",
    "image.shape"
   ]
  }
 ],
 "metadata": {
  "kernelspec": {
   "display_name": "Python 3",
   "language": "python",
   "name": "python3"
  },
  "language_info": {
   "codemirror_mode": {
    "name": "ipython",
    "version": 3
   },
   "file_extension": ".py",
   "mimetype": "text/x-python",
   "name": "python",
   "nbconvert_exporter": "python",
   "pygments_lexer": "ipython3",
   "version": "3.6.9"
  }
 },
 "nbformat": 4,
 "nbformat_minor": 2
}
