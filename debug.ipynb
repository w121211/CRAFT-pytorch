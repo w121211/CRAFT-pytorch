{
 "cells": [
  {
   "cell_type": "code",
   "execution_count": 1,
   "metadata": {},
   "outputs": [],
   "source": [
    "%load_ext autoreload\n",
    "import sys\n",
    "import os\n",
    "import time\n",
    "import argparse\n",
    "from collections import OrderedDict\n",
    "from types import SimpleNamespace\n",
    "\n",
    "import matplotlib.pyplot as plt\n",
    "import numpy as np\n",
    "from PIL import Image, ImageDraw, ImageFont\n",
    "\n",
    "import torch\n",
    "import torch.nn as nn\n",
    "import torch.nn.functional as F\n",
    "from torchvision import models\n",
    "import torchvision.transforms as transforms\n",
    "from torchsummary import summary"
   ]
  },
  {
   "cell_type": "code",
   "execution_count": 5,
   "metadata": {},
   "outputs": [
    {
     "name": "stdout",
     "output_type": "stream",
     "text": [
      "/workspace/CRAFT-pytorch/my-src\n",
      "torch.Size([1, 2048])\n",
      "torch.Size([1, 2048])\n",
      "torch.Size([1, 2048])\n",
      "torch.Size([1, 2048])\n",
      "torch.Size([1, 2048])\n"
     ]
    },
    {
     "data": {
      "text/plain": [
       "(5, 2048)"
      ]
     },
     "execution_count": 5,
     "metadata": {},
     "output_type": "execute_result"
    }
   ],
   "source": [
    "%autoreload 2\n",
    "%cd /workspace/CRAFT-pytorch/my-src\n",
    "import glob\n",
    "# from data import MyDataset\n",
    "from algo.kmeans import lloyd\n",
    "from model.vgg import VGGFeatures\n",
    "\n",
    "opt = SimpleNamespace()\n",
    "opt.imsize = 64\n",
    "opt.n_samples = 100\n",
    "opt.n_layers = 3\n",
    "opt.device = torch.device(\"cuda\" if torch.cuda.is_available() else \"cpu\")\n",
    "opt.root = \"../tmp\"\n",
    "\n",
    "model = VGGFeatures().to(opt.device)\n",
    "model.eval()\n",
    "trans = transforms.Compose(\n",
    "    [\n",
    "        transforms.Resize((opt.imsize, opt.imsize)),\n",
    "        transforms.ToTensor(),\n",
    "    ]\n",
    ")\n",
    "\n",
    "feats = []\n",
    "for f in glob.glob(opt.root + \"/*\"):\n",
    "    x = trans(Image.open(f))\n",
    "    x = x.unsqueeze(0)\n",
    "    x = model(x)\n",
    "    print(x.shape)\n",
    "    feats.append(x)\n",
    "feats = torch.cat(feats, dim=0).detach().numpy()\n",
    "feats.shape\n",
    "\n",
    "# idx, ctr = lloyd(feats, 2, opt.device)\n",
    "\n",
    "\n",
    "# d = MyDataset(opt)\n",
    "# im, cur_masks, target_mask = d[2]\n",
    "# # im.shape\n",
    "\n",
    "# trans(im)\n",
    "# # trans(target_mask)\n",
    "# # target_mask.shape\n"
   ]
  },
  {
   "cell_type": "code",
   "execution_count": 6,
   "metadata": {},
   "outputs": [],
   "source": [
    "idx, ctr = lloyd(feats, 2, opt.device)"
   ]
  },
  {
   "cell_type": "code",
   "execution_count": 10,
   "metadata": {},
   "outputs": [
    {
     "data": {
      "text/plain": [
       "array([1, 0, 0, 1, 1])"
      ]
     },
     "execution_count": 10,
     "metadata": {},
     "output_type": "execute_result"
    }
   ],
   "source": [
    "idx\n",
    "# ctr.shape"
   ]
  },
  {
   "cell_type": "code",
   "execution_count": 7,
   "metadata": {},
   "outputs": [
    {
     "name": "stdout",
     "output_type": "stream",
     "text": [
      "/workspace/CRAFT-pytorch/my-src/generator\n",
      "(0, 0, 256, 256)\n",
      "(72, 51, 170, 117)\n",
      "(-64, 190, 115, 234)\n",
      "(9, 52, 103, 193)\n",
      "(0, 205, 119, 214)\n"
     ]
    },
    {
     "data": {
      "image/png": "[encoded data removed]",
      "text/plain": [
       "<PIL.Image.Image image mode=L size=256x256 at 0x7FC377D5A3C8>"
      ]
     },
     "execution_count": 7,
     "metadata": {},
     "output_type": "execute_result"
    }
   ],
   "source": [
    "%autoreload 2\n",
    "%cd /workspace/CRAFT-pytorch/my-src/generator\n",
    "\n",
    "\n",
    "\n",
    "# from generator.mask import create_mask\n",
    "import random\n",
    "from main import Sampler\n",
    "import blocks as bk\n",
    "\n",
    "opt = SimpleNamespace()\n",
    "opt.imsize = 128\n",
    "\n",
    "# mask, bw = create_mask((128, 128), np.array([[[30, 60], [120, 60], [120, 120], [60, 120]]]))\n",
    "# plt.imshow(mask)\n",
    "\n",
    "rect = bk.Rectangle()\n",
    "jpg = bk.Photo(\"/workspace/CoordConv-pytorch/data/facebook\")\n",
    "text = bk.Text()\n",
    "bg = bk.Background([bk.Rectangle(), bk.Photo(\"/workspace/CoordConv-pytorch/data/facebook\")])\n",
    "samplers = [\n",
    "#     Sampler([bg, jpg, rect, text], opt),\n",
    "#     Sampler([bg, rect, jpg, text], opt),\n",
    "#     Sampler([bg, jpg, rect, rect, text], opt),\n",
    "    Sampler([bg, rect, jpg, rect, text], opt),\n",
    "    Sampler([bg, rect, rect, jpg, text], opt),\n",
    "#     Sampler([bg, rect, text, rect], opt),\n",
    "]\n",
    "# samplers = [Sampler([bg, rect], opt)]\n",
    "\n",
    "sp = random.choice(samplers)\n",
    "im, anns, layers = sp.sample()\n",
    "layers[0]\n",
    "#     im.save(os.path.join(opt.save_to, \"images\", \"{}.png\".format(i)), \"PNG\")\n",
    "#     count = 0\n",
    "# plt.imshow(Image.fromarray(np.uint8(layers[1]*255)))\n",
    "# plt.imshow(im)\n",
    "# np.uint8(layers[0]*255).shape\n",
    "# layers[0].shape\n",
    "\n",
    "# im"
   ]
  },
  {
   "cell_type": "code",
   "execution_count": 22,
   "metadata": {},
   "outputs": [
    {
     "name": "stdout",
     "output_type": "stream",
     "text": [
      "/workspace/CRAFT-pytorch/my-src\n"
     ]
    }
   ],
   "source": [
    "%autoreload 2\n",
    "%cd /workspace/CRAFT-pytorch/my-src\n",
    "from models.craft import CRAFT, vgg16_bn\n",
    "\n",
    "model = CRAFT()\n",
    "# x = torch.randn(1, 3, 768, 768)\n",
    "# m = vgg16_bn(True, False)"
   ]
  },
  {
   "cell_type": "code",
   "execution_count": 26,
   "metadata": {},
   "outputs": [
    {
     "data": {
      "text/plain": [
       "torch.Size([1, 32, 32, 2])"
      ]
     },
     "execution_count": 26,
     "metadata": {},
     "output_type": "execute_result"
    }
   ],
   "source": [
    "# m = models.vgg16_bn(pretrained=False).features\n",
    "# m[0]\n",
    "x = torch.randn(1, 6, 64, 64)\n",
    "y = model(x)\n",
    "# y[0].shape\n",
    "# summary(m, input_size=(3, 64, 64))\n",
    "\n",
    "# for i in range(5):\n",
    "#     print(y[i].shape)\n",
    "    \n",
    "y[0].shape"
   ]
  },
  {
   "cell_type": "code",
   "execution_count": null,
   "metadata": {},
   "outputs": [],
   "source": [
    "%autoreload 2\n",
    "%cd /workspace/CRAFT-pytorch/my-src\n",
    "from generator import blocks as bk\n",
    "\n",
    "class Sampler:\n",
    "    def __init__(self, blocks, opt):\n",
    "        self.blocks = blocks\n",
    "        self.imsize = opt.imsize\n",
    "\n",
    "    def sample(self):\n",
    "        im = Image.new(\"RGBA\", (self.imsize, self.imsize))\n",
    "        anns = dict()\n",
    "        labels = []\n",
    "        for bk in self.blocks:\n",
    "            bk.sample(self.imsize)\n",
    "            im.alpha_composite(bk.im)\n",
    "            for k, v in bk.annotations:\n",
    "                anns.setdefault(k, []).append(v)\n",
    "            labels.append(bk.label)\n",
    "        return im, anns, labels\n",
    "\n",
    "opt = SimpleNamespace()\n",
    "opt.imsize = 256\n",
    "\n",
    "rect = bk.Rectangle()\n",
    "jpg = bk.Photo(\"/workspace/CoordConv-pytorch/data/facebook\")\n",
    "text = bk.Text()\n",
    "bg = bk.Background([bk.Rectangle(), bk.Photo(\"/workspace/CoordConv-pytorch/data/facebook\")])\n",
    "\n",
    "sp = Sampler([bg, jpg, rect, text], opt)\n",
    "im, anns, labels = sp.sample()\n",
    "\n",
    "labels\n",
    "draw = ImageDraw.Draw(im)\n",
    "for l in labels:\n",
    "    draw.rectangle(l['box'], fill=None, outline=(0, 0, 0, 255), width=2)\n",
    "im"
   ]
  },
  {
   "cell_type": "code",
   "execution_count": null,
   "metadata": {},
   "outputs": [],
   "source": [
    "##### from PIL import Image, ImageDraw\n",
    "import tesserocr\n",
    "from tesserocr import PyTessBaseAPI, RIL\n",
    "\n",
    "im = Image.open('tmp/fb8a7b30bcb8ace3e88565e7617fc87c.jpg')\n",
    "draw = ImageDraw.Draw(im)\n",
    "# draw.rectangle((500, 500, 600, 550), fill=255)\n",
    "\n",
    "print(tesserocr.tesseract_version()) \n",
    "print(tesserocr.get_languages())\n",
    "\n",
    "with PyTessBaseAPI() as api:\n",
    "    api.SetImage(im)\n",
    "#     boxes = api.GetComponentImages(RIL.TEXTLINE, True)\n",
    "    boxes = api.GetComponentImages(RIL.BLOCK, True)\n",
    "    print('Found {} textline image components.'.format(len(boxes)))\n",
    "    for i, (_im, box, _, _) in enumerate(boxes):\n",
    "#         # im is a PIL image object\n",
    "#         # box is a dict with x, y, w and h keys\n",
    "        api.SetRectangle(box['x'], box['y'], box['w'], box['h'])\n",
    "        ocrResult = api.GetUTF8Text()\n",
    "        conf = api.MeanTextConf()\n",
    "        print(conf, ocrResult)\n",
    "        draw.rectangle((box['x'], box['y'], box['x']+box['w'], box['y']+box['h']), fill=None, outline=(255, 0, 0))\n",
    "#         print(\"Box[{0}]: x={x}, y={y}, w={w}, h={h}, confidence: {1}, text: {2}\").format(i, conf, ocrResult, **box)\n",
    "im"
   ]
  },
  {
   "cell_type": "code",
   "execution_count": null,
   "metadata": {},
   "outputs": [],
   "source": [
    "net = CRAFT()  # initialize\n",
    "state_dict = torch.load(\"craft_mlt_25k.pth\", map_location=\"cpu\")\n",
    "\n",
    "new_state_dict = OrderedDict()\n",
    "for k, v in state_dict.items():\n",
    "    name = k.replace(\"module.\", \"\")  # remove 'module.' of dataparallel\n",
    "    new_state_dict[name] = v\n",
    "\n",
    "net.load_state_dict(new_state_dict)\n",
    "net.eval()\n",
    "None"
   ]
  },
  {
   "cell_type": "code",
   "execution_count": null,
   "metadata": {},
   "outputs": [],
   "source": [
    "image = imgproc.loadImage(\"data/0e2f315f1f068638932de997005ff9a6.jpg\")\n",
    "img_resized, target_ratio, size_heatmap = imgproc.resize_aspect_ratio(\n",
    "        image,\n",
    "        1280,\n",
    "        interpolation=cv2.INTER_LINEAR,\n",
    "        mag_ratio=1.5,\n",
    "    )\n",
    "ratio_h = ratio_w = 1 / target_ratio\n",
    "\n",
    "# preprocessing\n",
    "x = imgproc.normalizeMeanVariance(img_resized)\n",
    "x = torch.from_numpy(x).permute(2, 0, 1)  # [h, w, c] to [c, h, w]\n",
    "x = Variable(x.unsqueeze(0))  # [c, h, w] to [b, c, h, w]\n",
    "\n",
    "# forward pass\n",
    "y, _ = net(x)\n",
    "\n",
    "# make score and link map\n",
    "# score_text = y[0, :, :, 0].cpu().data.numpy()\n",
    "# score_link = y[0, :, :, 1].cpu().data.numpy()\n",
    "\n",
    "# render results (optional)\n",
    "# render_img = score_text.copy()\n",
    "# render_img = np.hstack((render_img, score_link))\n",
    "# ret_score_text = imgproc.cvt2HeatmapImg(render_img)"
   ]
  },
  {
   "cell_type": "code",
   "execution_count": 52,
   "metadata": {},
   "outputs": [
    {
     "data": {
      "image/png": "[encoded data removed]",
      "text/plain": [
       "<PIL.Image.Image image mode=RGBA size=256x256 at 0x7FB0E47CE400>"
      ]
     },
     "execution_count": 52,
     "metadata": {},
     "output_type": "execute_result"
    }
   ],
   "source": [
    "im = Image.new(\"RGBA\", (256, 256))\n",
    "p = Image.open(\"/workspace/CRAFT-pytorch/data/0a7c18c4c6c89108254a07b8a4cc1641.jpg\").convert('RGBA')\n",
    "p.thumbnail((64, 64))\n",
    "p = p.rotate(45, expand=True)\n",
    "\n",
    "im.paste(p, (50, 50))\n",
    "\n",
    "# im.bbox\n",
    "# im\n",
    "\n",
    "draw = ImageDraw.Draw(im)\n",
    "draw.rectangle(im.getbbox(), fill=None, outline=(0, 0, 0, 255))\n",
    "# im.getbbox()\n",
    "im"
   ]
  }
 ],
 "metadata": {
  "kernelspec": {
   "display_name": "Python 3",
   "language": "python",
   "name": "python3"
  },
  "language_info": {
   "codemirror_mode": {
    "name": "ipython",
    "version": 3
   },
   "file_extension": ".py",
   "mimetype": "text/x-python",
   "name": "python",
   "nbconvert_exporter": "python",
   "pygments_lexer": "ipython3",
   "version": "3.6.9"
  }
 },
 "nbformat": 4,
 "nbformat_minor": 2
}
