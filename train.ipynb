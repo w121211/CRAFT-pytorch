{
 "cells": [
  {
   "cell_type": "code",
   "execution_count": 4,
   "metadata": {},
   "outputs": [],
   "source": [
    "# !apt update\n",
    "# !apt install -y libsm6 libxext6 libxrender-devt\n",
    "# !pip install opencv-python\n",
    "!python my_test.py --trained_model=craft_mlt_25k.pth --test_folder=data --cuda=False\n",
    "!conda install -y -c conda-forge pycairo"
   ]
  },
  {
   "cell_type": "code",
   "execution_count": 22,
   "metadata": {},
   "outputs": [
    {
     "name": "stdout",
     "output_type": "stream",
     "text": [
      "/workspace/CRAFT-pytorch/my-src/generator\n",
      "0\n"
     ]
    }
   ],
   "source": [
    "%cd /workspace/CRAFT-pytorch/my-src/generator\n",
    "!rm -R /workspace/CRAFT-pytorch/my-dataset\n",
    "!python main.py --n_samples=10 --imsize=128"
   ]
  },
  {
   "cell_type": "code",
   "execution_count": 25,
   "metadata": {},
   "outputs": [
    {
     "name": "stdout",
     "output_type": "stream",
     "text": [
      "/workspace/CRAFT-pytorch/my-src\n",
      "[Epoch 0/1000] [Batch 0/9] [loss: 0.473765]\n",
      "[Epoch 44/1000] [Batch 4/9] [loss: 0.059059]\n",
      "[Epoch 88/1000] [Batch 8/9] [loss: 0.002204]\n",
      "[Epoch 133/1000] [Batch 3/9] [loss: 0.003412]\n",
      "^C\n",
      "Traceback (most recent call last):\n",
      "  File \"train_param.py\", line 138, in <module>\n",
      "    trainer.train()\n",
      "  File \"train_param.py\", line 80, in train\n",
      "    for i, (im, mask, cat, gt_param) in enumerate(self.dataloader):\n",
      "  File \"/opt/conda/lib/python3.6/site-packages/torch/utils/data/dataloader.py\", line 346, in __next__\n",
      "    data = self.dataset_fetcher.fetch(index)  # may raise StopIteration\n",
      "  File \"/opt/conda/lib/python3.6/site-packages/torch/utils/data/_utils/fetch.py\", line 44, in fetch\n",
      "    data = [self.dataset[idx] for idx in possibly_batched_index]\n",
      "  File \"/opt/conda/lib/python3.6/site-packages/torch/utils/data/_utils/fetch.py\", line 44, in <listcomp>\n",
      "    data = [self.dataset[idx] for idx in possibly_batched_index]\n",
      "  File \"/workspace/CRAFT-pytorch/my-src/data.py\", line 109, in __getitem__\n",
      "    self.trans_mask(Image.open(mask)),\n",
      "  File \"/opt/conda/lib/python3.6/site-packages/PIL/Image.py\", line 2766, in open\n",
      "    fp = builtins.open(filename, \"rb\")\n",
      "KeyboardInterrupt\n"
     ]
    }
   ],
   "source": [
    "%cd /workspace/CRAFT-pytorch/my-src\n",
    "# !python train_mask.py --imsize=128 --batch_size=4\n",
    "!python train_param.py --imsize=128 --batch_size=4"
   ]
  },
  {
   "cell_type": "code",
   "execution_count": 8,
   "metadata": {},
   "outputs": [
    {
     "name": "stdout",
     "output_type": "stream",
     "text": [
      "DISTRIB_ID=Ubuntu\r\n",
      "DISTRIB_RELEASE=16.04\r\n",
      "DISTRIB_CODENAME=xenial\r\n",
      "DISTRIB_DESCRIPTION=\"Ubuntu 16.04.6 LTS\"\r\n",
      "NAME=\"Ubuntu\"\r\n",
      "VERSION=\"16.04.6 LTS (Xenial Xerus)\"\r\n",
      "ID=ubuntu\r\n",
      "ID_LIKE=debian\r\n",
      "PRETTY_NAME=\"Ubuntu 16.04.6 LTS\"\r\n",
      "VERSION_ID=\"16.04\"\r\n",
      "HOME_URL=\"http://www.ubuntu.com/\"\r\n",
      "SUPPORT_URL=\"http://help.ubuntu.com/\"\r\n",
      "BUG_REPORT_URL=\"http://bugs.launchpad.net/ubuntu/\"\r\n",
      "VERSION_CODENAME=xenial\r\n",
      "UBUNTU_CODENAME=xenial\r\n"
     ]
    }
   ],
   "source": [
    "# !apt update -y && apt install -y tesseract-ocr \n",
    "#libtesseract-dev libleptonica-dev tesseract-ocr-jpn\n",
    "# !pip install tesserocr "
   ]
  },
  {
   "cell_type": "code",
   "execution_count": 10,
   "metadata": {},
   "outputs": [
    {
     "data": {
      "text/plain": [
       "(1216, 640)"
      ]
     },
     "execution_count": 10,
     "metadata": {},
     "output_type": "execute_result"
    }
   ],
   "source": []
  }
 ],
 "metadata": {
  "kernelspec": {
   "display_name": "Python 3",
   "language": "python",
   "name": "python3"
  },
  "language_info": {
   "codemirror_mode": {
    "name": "ipython",
    "version": 3
   },
   "file_extension": ".py",
   "mimetype": "text/x-python",
   "name": "python",
   "nbconvert_exporter": "python",
   "pygments_lexer": "ipython3",
   "version": "3.6.9"
  }
 },
 "nbformat": 4,
 "nbformat_minor": 2
}
