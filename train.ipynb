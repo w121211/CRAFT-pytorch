{
 "cells": [
  {
   "cell_type": "markdown",
   "metadata": {},
   "source": [
    "* effect: rasterize (on photo), edge blur - shadow\n",
    "alpha gradient mask (brightness control)\n",
    "\n",
    "#### 問題\n",
    "\n",
    "* crop mask: 分為shape, fill -> 跟blend有點接近\n",
    "* blend: 一系列物件具有相同的bbox -> detection困難？\n",
    "* 位移：基於標的物件做位移的情況？\n",
    "\n",
    "* shape只能有一個？\n",
    "\n",
    "#### 測試checklist\n",
    "\n",
    "* 對於物件完全重疊時的有效性？ eg photo + alpha gradient\n",
    "* \n",
    "\n",
    "#### 流程\n",
    "\n",
    "* detection: 找出物件bbox(x, y, w, h） & cat (以shape為標的)，物件可以是復合物件\n",
    "* paramter regression(基於sequence方式): 給予(image, bbox(as mask), cat, prev_cat) -> (params, next_cat)，好處-針對復合物件導出params\n",
    "  * 單一物件 b0：(im, mask, \"b0_cat\", \"null\") -> (params, \"null\")\n",
    "  * Blend: \\[b0 (as crop), b1, b2, ..., b_n\\], 任何情況b0都是crop\n",
    "    * 沒有mask -> 單純\"blend\": (im, mask, \"blend\", \"null\") -> (blend_params, \"b0_cat\")\n",
    "        * (im, mask0, \"Blend\", \"Null\") -> (blend_params, \"b0_cat\")\n",
    "        * (im, mask0, \"b0_cat\", \"Blend\") -> (b0_params, \"b1_cat\")\n",
    "        * (im, mask0, \"b1_cat\", \"b0_cat\") -> (b1_params, \"b1_cat\")\n",
    "    * 有mask:\n",
    "        * (im, mask0, \"Blend\", \"Null\") -> (blend_params, \"b0_cat\")\n",
    "        * (im, mask0, \"b0_cat\", \"Crop\") -> (b0_params, \"b1_cat\")\n",
    "        * (im, mask0, \"b1_cat\", \"b0_cat\") -> (b1_params, \"b1_cat\")\n",
    "        * ...\n",
    "       \n",
    "#### Todo\n",
    "\n",
    "* blend\\[pattern, gradient\\] -> 目前pattern因為自帶color，和其他color結合會有問題\n",
    "* blend\\[rect, gradient\\] -> 顏色無法正確顯示，需要改用alpha_composite\n",
    "* text box"
   ]
  },
  {
   "cell_type": "code",
   "execution_count": 4,
   "metadata": {},
   "outputs": [],
   "source": [
    "# !apt update\n",
    "# !apt install -y libsm6 libxext6 libxrender-devt\n",
    "# !pip install opencv-python\n",
    "# !conda install -c anaconda sqlalchemy\n",
    "# !conda install -y -c conda-forge pycairo cairosvg imgaug faker"
   ]
  },
  {
   "cell_type": "code",
   "execution_count": 3,
   "metadata": {},
   "outputs": [],
   "source": [
    "# %cd /workspace/CRAFT-pytorch/my-src/generator\n",
    "# !rm -R /workspace/CRAFT-pytorch/data/icons\n",
    "# !python svg2png.py --db=sqlite:////workspace/CRAFT-pytorch/crawl_noun.db --n_samples=100"
   ]
  },
  {
   "cell_type": "code",
   "execution_count": 12,
   "metadata": {},
   "outputs": [
    {
     "name": "stdout",
     "output_type": "stream",
     "text": [
      "/workspace/CRAFT-pytorch/mysrc/generator\n",
      "0\n"
     ]
    }
   ],
   "source": [
    "%cd /workspace/CRAFT-pytorch/mysrc/generator\n",
    "!rm -R /workspace/CRAFT-pytorch/mydataset\n",
    "# !python main.py --n_samples=1 --imsize=511 --folder=train\n",
    "# !python main.py --n_samples=1000 --imsize=511 --folder=train\n",
    "# !python tococo.py --root=/workspace/CRAFT-pytorch/mydataset/train\n",
    "\n",
    "# !python main.py --n_samples=2 --imsize=511 --folder=test\n",
    "# !python tococo.py --folder=test"
   ]
  },
  {
   "cell_type": "code",
   "execution_count": 23,
   "metadata": {},
   "outputs": [
    {
     "name": "stdout",
     "output_type": "stream",
     "text": [
      "/workspace/CRAFT-pytorch/mysrc\n",
      "Traceback (most recent call last):\n",
      "  File \"train_param.py\", line 13, in <module>\n",
      "    from data import ParamDataset\n",
      "  File \"/workspace/CRAFT-pytorch/mysrc/data.py\", line 12, in <module>\n",
      "    from .generator.mask import create_mask\n",
      "ImportError: attempted relative import with no known parent package\n"
     ]
    }
   ],
   "source": [
    "%cd /workspace/CRAFT-pytorch/mysrc\n",
    "# !python train_mask.py --imsize=128 --batch_size=4\n",
    "!python train_param.py --imsize=511 --batch_size=4 --sample_interval=2"
   ]
  },
  {
   "cell_type": "code",
   "execution_count": 8,
   "metadata": {},
   "outputs": [
    {
     "name": "stdout",
     "output_type": "stream",
     "text": [
      "DISTRIB_ID=Ubuntu\r\n",
      "DISTRIB_RELEASE=16.04\r\n",
      "DISTRIB_CODENAME=xenial\r\n",
      "DISTRIB_DESCRIPTION=\"Ubuntu 16.04.6 LTS\"\r\n",
      "NAME=\"Ubuntu\"\r\n",
      "VERSION=\"16.04.6 LTS (Xenial Xerus)\"\r\n",
      "ID=ubuntu\r\n",
      "ID_LIKE=debian\r\n",
      "PRETTY_NAME=\"Ubuntu 16.04.6 LTS\"\r\n",
      "VERSION_ID=\"16.04\"\r\n",
      "HOME_URL=\"http://www.ubuntu.com/\"\r\n",
      "SUPPORT_URL=\"http://help.ubuntu.com/\"\r\n",
      "BUG_REPORT_URL=\"http://bugs.launchpad.net/ubuntu/\"\r\n",
      "VERSION_CODENAME=xenial\r\n",
      "UBUNTU_CODENAME=xenial\r\n"
     ]
    }
   ],
   "source": [
    "# !apt update -y && apt install -y tesseract-ocr \n",
    "#libtesseract-dev libleptonica-dev tesseract-ocr-jpn\n",
    "# !pip install tesserocr "
   ]
  },
  {
   "cell_type": "code",
   "execution_count": 10,
   "metadata": {},
   "outputs": [
    {
     "data": {
      "text/plain": [
       "(1216, 640)"
      ]
     },
     "execution_count": 10,
     "metadata": {},
     "output_type": "execute_result"
    }
   ],
   "source": []
  }
 ],
 "metadata": {
  "kernelspec": {
   "display_name": "Python 3",
   "language": "python",
   "name": "python3"
  },
  "language_info": {
   "codemirror_mode": {
    "name": "ipython",
    "version": 3
   },
   "file_extension": ".py",
   "mimetype": "text/x-python",
   "name": "python",
   "nbconvert_exporter": "python",
   "pygments_lexer": "ipython3",
   "version": "3.6.9"
  }
 },
 "nbformat": 4,
 "nbformat_minor": 2
}
