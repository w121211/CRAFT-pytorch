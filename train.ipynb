{
 "cells": [
  {
   "cell_type": "code",
   "execution_count": 13,
   "metadata": {},
   "outputs": [
    {
     "name": "stdout",
     "output_type": "stream",
     "text": [
      "Loading weights from checkpoint (craft_mlt_25k.pth)\n",
      "elapsed time : 37.91211199760437s2cbaf9fe4f47a07d0bd2.jpg\n"
     ]
    }
   ],
   "source": [
    "# !apt update\n",
    "# !apt install -y libsm6 libxext6 libxrender-dev\n",
    "# !pip install opencv-python\n",
    "!python test.py --trained_model=craft_mlt_25k.pth --test_folder=data --cuda=False"
   ]
  }
 ],
 "metadata": {
  "kernelspec": {
   "display_name": "Python 3",
   "language": "python",
   "name": "python3"
  },
  "language_info": {
   "codemirror_mode": {
    "name": "ipython",
    "version": 3
   },
   "file_extension": ".py",
   "mimetype": "text/x-python",
   "name": "python",
   "nbconvert_exporter": "python",
   "pygments_lexer": "ipython3",
   "version": "3.6.7"
  }
 },
 "nbformat": 4,
 "nbformat_minor": 2
}
