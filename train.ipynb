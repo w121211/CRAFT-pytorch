{
 "cells": [
  {
   "cell_type": "code",
   "execution_count": 4,
   "metadata": {},
   "outputs": [],
   "source": [
    "# !apt update\n",
    "# !apt install -y libsm6 libxext6 libxrender-dev\n",
    "# !pip install opencv-python\n",
    "!python my_test.py --trained_model=craft_mlt_25k.pth --test_folder=data --cuda=False"
   ]
  },
  {
   "cell_type": "code",
   "execution_count": 6,
   "metadata": {},
   "outputs": [
    {
     "name": "stdout",
     "output_type": "stream",
     "text": [
      "/workspace/CRAFT-pytorch/my-src/generator\n",
      "rm: cannot remove '/workspace/CRAFT-pytorch/my_dataset': No such file or directory\n",
      "python: can't open file 'train_mask.py': [Errno 2] No such file or directory\n"
     ]
    }
   ],
   "source": [
    "%cd /workspace/CRAFT-pytorch/my-src/generator\n",
    "!rm -R /workspace/CRAFT-pytorch/my_dataset\n",
    "!python main.py --n_samples=10"
   ]
  },
  {
   "cell_type": "code",
   "execution_count": 15,
   "metadata": {},
   "outputs": [
    {
     "name": "stdout",
     "output_type": "stream",
     "text": [
      "/workspace/CRAFT-pytorch/my-src\n",
      "/opt/conda/lib/python3.6/site-packages/torch/nn/functional.py:1350: UserWarning: nn.functional.sigmoid is deprecated. Use torch.sigmoid instead.\n",
      "  warnings.warn(\"nn.functional.sigmoid is deprecated. Use torch.sigmoid instead.\")\n",
      "[Epoch 0/1000] [Batch 0/1] [loss: 0.701399]\n",
      "^C\n"
     ]
    }
   ],
   "source": [
    "%cd /workspace/CRAFT-pytorch/my-src\n",
    "!python train_mask.py --imsize=128"
   ]
  },
  {
   "cell_type": "code",
   "execution_count": 8,
   "metadata": {},
   "outputs": [
    {
     "name": "stdout",
     "output_type": "stream",
     "text": [
      "DISTRIB_ID=Ubuntu\r\n",
      "DISTRIB_RELEASE=16.04\r\n",
      "DISTRIB_CODENAME=xenial\r\n",
      "DISTRIB_DESCRIPTION=\"Ubuntu 16.04.6 LTS\"\r\n",
      "NAME=\"Ubuntu\"\r\n",
      "VERSION=\"16.04.6 LTS (Xenial Xerus)\"\r\n",
      "ID=ubuntu\r\n",
      "ID_LIKE=debian\r\n",
      "PRETTY_NAME=\"Ubuntu 16.04.6 LTS\"\r\n",
      "VERSION_ID=\"16.04\"\r\n",
      "HOME_URL=\"http://www.ubuntu.com/\"\r\n",
      "SUPPORT_URL=\"http://help.ubuntu.com/\"\r\n",
      "BUG_REPORT_URL=\"http://bugs.launchpad.net/ubuntu/\"\r\n",
      "VERSION_CODENAME=xenial\r\n",
      "UBUNTU_CODENAME=xenial\r\n"
     ]
    }
   ],
   "source": [
    "!apt update -y && apt install -y tesseract-ocr \n",
    "#libtesseract-dev libleptonica-dev tesseract-ocr-jpn\n",
    "# !pip install tesserocr "
   ]
  },
  {
   "cell_type": "code",
   "execution_count": 10,
   "metadata": {},
   "outputs": [
    {
     "data": {
      "text/plain": [
       "(1216, 640)"
      ]
     },
     "execution_count": 10,
     "metadata": {},
     "output_type": "execute_result"
    }
   ],
   "source": []
  }
 ],
 "metadata": {
  "kernelspec": {
   "display_name": "Python 3",
   "language": "python",
   "name": "python3"
  },
  "language_info": {
   "codemirror_mode": {
    "name": "ipython",
    "version": 3
   },
   "file_extension": ".py",
   "mimetype": "text/x-python",
   "name": "python",
   "nbconvert_exporter": "python",
   "pygments_lexer": "ipython3",
   "version": "3.6.9"
  }
 },
 "nbformat": 4,
 "nbformat_minor": 2
}
