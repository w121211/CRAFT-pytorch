{
 "cells": [
  {
   "cell_type": "markdown",
   "metadata": {},
   "source": [
    "* effect: rasterize (on photo), edge blur - shadow\n",
    "alpha gradient mask (brightness control)\n",
    "\n",
    "#### 問題\n",
    "\n",
    "* crop mask: 分為shape, fill -> 跟blend有點接近\n",
    "* blend: 一系列物件具有相同的bbox -> detection困難？\n",
    "* 位移：基於標的物件做位移的情況？\n",
    "\n",
    "* shape只能有一個？\n",
    "\n",
    "#### 測試checklist\n",
    "\n",
    "* 對於物件完全重疊時的有效性？ eg photo + alpha gradient\n",
    "* \n",
    "\n",
    "#### 流程\n",
    "\n",
    "* detection: 找出物件bbox(x, y, w, h） & cat (以shape為標的)，物件可以是復合物件\n",
    "* paramter regression(基於sequence方式): 給予(image, bbox(as mask), cat, prev_cat) -> (params, next_cat)，好處-針對復合物件導出params\n",
    "  * 單一物件 b0：(im, mask, \"b0_cat\", \"null\") -> (params, \"null\")\n",
    "  * blend: \\[b0, b1, b2, ..., b_n\\]\n",
    "    * (im, mask, \"item_0_cat\", \"null\") -> (item_0_params, \"item_1_cat\")\n",
    "    * (im, mask, \"item_1_cat\", \"null\") -> (item_1_params, \"item_2_cat\"), ...\n",
    "    * (im, mask, \"item_n_cat\", \"null\") -> (item_n_params, \"null\")\n",
    "  * crop mask: shape, fill as \\[b0, b1, b2, ..., b_n\\]\n",
    "    * (im, mask,\"CropMask_ShapeCat\", \"null\") -> (shape_params, \"fill_0_cat\")\n",
    "    * (im, mask,\"CropMask_ShapeCat\", \"fill_0_cat\") -> (fill_0_params, \"fill_1_cat\"), ..."
   ]
  },
  {
   "cell_type": "code",
   "execution_count": 55,
   "metadata": {},
   "outputs": [
    {
     "name": "stdout",
     "output_type": "stream",
     "text": [
      "python: can't open file 'my_test.py': [Errno 2] No such file or directory\r\n"
     ]
    }
   ],
   "source": [
    "# !apt update\n",
    "# !apt install -y libsm6 libxext6 libxrender-devt\n",
    "# !pip install opencv-python\n",
    "# !conda install -y -c conda-forge pycairo\n",
    "!python my_test.py --trained_model=craft_mlt_25k.pth --test_folder=data --cuda=False"
   ]
  },
  {
   "cell_type": "code",
   "execution_count": 96,
   "metadata": {},
   "outputs": [
    {
     "name": "stdout",
     "output_type": "stream",
     "text": [
      "/workspace/CRAFT-pytorch/my-src/generator\n",
      "0\n"
     ]
    }
   ],
   "source": [
    "%cd /workspace/CRAFT-pytorch/my-src/generator\n",
    "!rm -R /workspace/CRAFT-pytorch/my-dataset\n",
    "!python main.py --n_samples=5 --imsize=511 --folder=train\n",
    "# !python tococo.py"
   ]
  },
  {
   "cell_type": "code",
   "execution_count": 102,
   "metadata": {},
   "outputs": [
    {
     "name": "stdout",
     "output_type": "stream",
     "text": [
      "/workspace/CRAFT-pytorch/my-src\n",
      "[Epoch 0/1000] [Batch 0/3] [loss: [0.22621066868305206, 6.043924808502197, 1.9131934642791748]]\n",
      "[Epoch 0/1000] [Batch 2/3] [loss: [0.2837846279144287, 0.017908239737153053, 8.344644015778613e-07]]\n",
      "[Epoch 1/1000] [Batch 1/3] [loss: [0.15982533991336823, 0.0, 0.0]]\n",
      "[Epoch 2/1000] [Batch 0/3] [loss: [0.12823861837387085, 0.0, 0.0]]\n",
      "[Epoch 2/1000] [Batch 2/3] [loss: [0.14011479914188385, 0.0, 0.0]]\n",
      "[Epoch 3/1000] [Batch 1/3] [loss: [0.19058538973331451, 0.0, 0.0]]\n",
      "[Epoch 4/1000] [Batch 0/3] [loss: [0.08955217897891998, 0.0, 0.0]]\n",
      "[Epoch 4/1000] [Batch 2/3] [loss: [0.19156207144260406, 0.0, 0.0]]\n",
      "[Epoch 5/1000] [Batch 1/3] [loss: [0.1228664442896843, 0.0, 0.0]]\n",
      "^C\n",
      "Traceback (most recent call last):\n",
      "  File \"train_param.py\", line 139, in <module>\n",
      "    train(dataloader, opt)\n",
      "  File \"train_param.py\", line 74, in train\n",
      "    for i, (im, mask, cat, pre_cat, param, cats) in enumerate(dataloader):\n",
      "  File \"/opt/conda/lib/python3.6/site-packages/torch/utils/data/dataloader.py\", line 346, in __next__\n",
      "    data = self.dataset_fetcher.fetch(index)  # may raise StopIteration\n",
      "  File \"/opt/conda/lib/python3.6/site-packages/torch/utils/data/_utils/fetch.py\", line 44, in fetch\n",
      "    data = [self.dataset[idx] for idx in possibly_batched_index]\n",
      "  File \"/opt/conda/lib/python3.6/site-packages/torch/utils/data/_utils/fetch.py\", line 44, in <listcomp>\n",
      "    data = [self.dataset[idx] for idx in possibly_batched_index]\n",
      "  File \"/workspace/CRAFT-pytorch/my-src/data.py\", line 99, in __getitem__\n",
      "    self.trans_mask(Image.open(mask)),\n",
      "  File \"/opt/conda/lib/python3.6/site-packages/PIL/Image.py\", line 2775, in open\n",
      "    prefix = fp.read(16)\n",
      "KeyboardInterrupt\n"
     ]
    }
   ],
   "source": [
    "%cd /workspace/CRAFT-pytorch/my-src\n",
    "# !python train_mask.py --imsize=128 --batch_size=4\n",
    "!python train_param.py --imsize=511 --batch_size=4 --sample_interval=2"
   ]
  },
  {
   "cell_type": "code",
   "execution_count": 8,
   "metadata": {},
   "outputs": [
    {
     "name": "stdout",
     "output_type": "stream",
     "text": [
      "DISTRIB_ID=Ubuntu\r\n",
      "DISTRIB_RELEASE=16.04\r\n",
      "DISTRIB_CODENAME=xenial\r\n",
      "DISTRIB_DESCRIPTION=\"Ubuntu 16.04.6 LTS\"\r\n",
      "NAME=\"Ubuntu\"\r\n",
      "VERSION=\"16.04.6 LTS (Xenial Xerus)\"\r\n",
      "ID=ubuntu\r\n",
      "ID_LIKE=debian\r\n",
      "PRETTY_NAME=\"Ubuntu 16.04.6 LTS\"\r\n",
      "VERSION_ID=\"16.04\"\r\n",
      "HOME_URL=\"http://www.ubuntu.com/\"\r\n",
      "SUPPORT_URL=\"http://help.ubuntu.com/\"\r\n",
      "BUG_REPORT_URL=\"http://bugs.launchpad.net/ubuntu/\"\r\n",
      "VERSION_CODENAME=xenial\r\n",
      "UBUNTU_CODENAME=xenial\r\n"
     ]
    }
   ],
   "source": [
    "# !apt update -y && apt install -y tesseract-ocr \n",
    "#libtesseract-dev libleptonica-dev tesseract-ocr-jpn\n",
    "# !pip install tesserocr "
   ]
  },
  {
   "cell_type": "code",
   "execution_count": 10,
   "metadata": {},
   "outputs": [
    {
     "data": {
      "text/plain": [
       "(1216, 640)"
      ]
     },
     "execution_count": 10,
     "metadata": {},
     "output_type": "execute_result"
    }
   ],
   "source": []
  }
 ],
 "metadata": {
  "kernelspec": {
   "display_name": "Python 3",
   "language": "python",
   "name": "python3"
  },
  "language_info": {
   "codemirror_mode": {
    "name": "ipython",
    "version": 3
   },
   "file_extension": ".py",
   "mimetype": "text/x-python",
   "name": "python",
   "nbconvert_exporter": "python",
   "pygments_lexer": "ipython3",
   "version": "3.6.9"
  }
 },
 "nbformat": 4,
 "nbformat_minor": 2
}
