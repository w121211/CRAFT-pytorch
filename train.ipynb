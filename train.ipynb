{
 "cells": [
  {
   "cell_type": "code",
   "execution_count": 11,
   "metadata": {},
   "outputs": [
    {
     "name": "stdout",
     "output_type": "stream",
     "text": [
      "Loading weights from checkpoint (craft_mlt_25k.pth)\n",
      "Killedmage 3/1198: data/d714b3cf97a8d482e86176aba9c45137.jpg\n"
     ]
    }
   ],
   "source": [
    "# !apt update\n",
    "# !apt install -y libsm6 libxext6 libxrender-dev\n",
    "# !pip install opencv-python\n",
    "!python test.py --trained_model=craft_mlt_25k.pth --test_folder=data --cuda=False"
   ]
  },
  {
   "cell_type": "code",
   "execution_count": 10,
   "metadata": {},
   "outputs": [
    {
     "data": {
      "text/plain": [
       "(1216, 640)"
      ]
     },
     "execution_count": 10,
     "metadata": {},
     "output_type": "execute_result"
    }
   ],
   "source": [
    "from PIL import Image\n",
    "\n",
    "im = Image.open(\"data/6ba4c283dc94bf95495161d02c7c9e10.jpg\")\n",
    "mask = Image.open('result/res_6ba4c283dc94bf95495161d02c7c9e10_mask.jpg')\n",
    "\n",
    "im.putalpha(1)\n",
    "mask.putalpha(1)\n",
    "\n",
    "im.size\n",
    "mask.size\n",
    "# Image.alpha_composite(im, mask)"
   ]
  }
 ],
 "metadata": {
  "kernelspec": {
   "display_name": "Python 3",
   "language": "python",
   "name": "python3"
  },
  "language_info": {
   "codemirror_mode": {
    "name": "ipython",
    "version": 3
   },
   "file_extension": ".py",
   "mimetype": "text/x-python",
   "name": "python",
   "nbconvert_exporter": "python",
   "pygments_lexer": "ipython3",
   "version": "3.6.7"
  }
 },
 "nbformat": 4,
 "nbformat_minor": 2
}
